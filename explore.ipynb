{
 "cells": [
  {
   "cell_type": "code",
   "execution_count": 5,
   "metadata": {},
   "outputs": [],
   "source": [
    "import mlx.core as mx\n",
    "from mlx_graphs.sampler.neighbor_sampler import sample_nodes\n",
    "import numpy as np"
   ]
  },
  {
   "cell_type": "code",
   "execution_count": 6,
   "metadata": {},
   "outputs": [
    {
     "data": {
      "text/plain": [
       "[(0, 2), (0, 3)]"
      ]
     },
     "execution_count": 6,
     "metadata": {},
     "output_type": "execute_result"
    }
   ],
   "source": [
    "edge_list = np.array([[0,0,1,1,2,3,4,2,3,3,4,5,6,7],\n",
    "                    [2,3,3,4,5,6,7,0,0,1,1,2,3,4]])\n",
    "\n",
    "sample_nodes(edge_list=edge_list, num_neighbors=2, batch_size=1)"
   ]
  },
  {
   "cell_type": "code",
   "execution_count": 24,
   "metadata": {},
   "outputs": [],
   "source": [
    "from typing import Any, Dict, Iterable, List, Literal, Optional, Tuple, Union\n",
    "from mlx_graphs.data import GraphData\n",
    "\n",
    "def to_networkx(\n",
    "    data: GraphData,\n",
    "    remove_self_loops: bool = False,\n",
    ") -> Any:\n",
    "    r\"\"\"Converts a :class:`mlx_graphs.data.GraphData` instance to a\n",
    "    :obj:`networkx.Graph` if :attr:`to_undirected` is set to :obj:`True`, or\n",
    "    a directed :obj:`networkx.DiGraph` otherwise.\n",
    "\n",
    "    Args:\n",
    "        data (mlx_graphs.data.GraphData or torch_geometric.data.HeteroData): A graph data object.\n",
    "        remove_self_loops (bool, optional): If set to :obj:`True`, will not\n",
    "            include self-loops in the resulting graph. (default: :obj:`False`)\n",
    "\n",
    "    Examples:\n",
    "        >>> edge_index = mx.array([\n",
    "        ...     [0, 1, 1, 2, 2, 3],\n",
    "        ...     [1, 0, 2, 1, 3, 2],\n",
    "        ... ])\n",
    "        >>> data = GraphData(edge_index=edge_index, num_nodes=4)\n",
    "        >>> to_networkx(data)\n",
    "        <networkx.classes.digraph.DiGraph at 0x2713fdb40d0>\n",
    "\n",
    "    \"\"\"\n",
    "    import networkx as nx\n",
    "\n",
    "    G = nx.MultiDiGraph() if to_multi else nx.DiGraph()\n",
    "\n",
    "    def to_networkx_value(value: Any) -> Any:\n",
    "        return value.tolist() if isinstance(value, mx.array) else value\n",
    "\n",
    "    for i, _ in enumerate(data.node_features):\n",
    "\n",
    "        G.add_node(i)\n",
    "\n",
    "    for v,w in data.edge_index.T.tolist():\n",
    "        if remove_self_loops and v == w :\n",
    "            continue\n",
    "\n",
    "            G.add_edge(v, w)\n",
    "\n",
    "    return G"
   ]
  },
  {
   "cell_type": "code",
   "execution_count": 11,
   "metadata": {},
   "outputs": [],
   "source": [
    "edge_index = mx.array([[0, 1, 1, 2, 2, 3],[1, 0, 2, 1, 3, 2]])\n",
    "node_features = mx.array([[1],[1],[1],[1]])\n",
    "data = GraphData(node_features=node_features, edge_index=edge_index)"
   ]
  },
  {
   "cell_type": "code",
   "execution_count": 28,
   "metadata": {},
   "outputs": [],
   "source": [
    "G = to_networkx(data=data)"
   ]
  },
  {
   "cell_type": "code",
   "execution_count": 31,
   "metadata": {},
   "outputs": [
    {
     "data": {
      "image/png": "[encoded data removed]",
      "text/plain": [
       "<Figure size 640x480 with 1 Axes>"
      ]
     },
     "metadata": {},
     "output_type": "display_data"
    }
   ],
   "source": [
    "import networkx as nx\n",
    "import matplotlib.pyplot as plt\n",
    "nx.draw(G)"
   ]
  }
 ],
 "metadata": {
  "kernelspec": {
   "display_name": "mlx_graphs_env",
   "language": "python",
   "name": "python3"
  },
  "language_info": {
   "codemirror_mode": {
    "name": "ipython",
    "version": 3
   },
   "file_extension": ".py",
   "mimetype": "text/x-python",
   "name": "python",
   "nbconvert_exporter": "python",
   "pygments_lexer": "ipython3",
   "version": "3.10.13"
  }
 },
 "nbformat": 4,
 "nbformat_minor": 2
}
