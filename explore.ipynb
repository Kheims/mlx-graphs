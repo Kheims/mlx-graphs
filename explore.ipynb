{
 "cells": [
  {
   "cell_type": "code",
   "execution_count": 1,
   "metadata": {},
   "outputs": [],
   "source": [
    "from typing import Any, Dict, Iterable, List, Literal, Optional, Tuple, Union\n",
    "import mlx.core as mx\n",
    "import numpy as np\n",
    "import matplotlib.pyplot as plt\n",
    "import networkx as nx\n",
    "from mlx_graphs.sampler.neighbor_sampler import sample_nodes\n",
    "from mlx_graphs.loaders.neighbor_loader import NeighborLoader\n",
    "from mlx_graphs.data import GraphData\n",
    "\n",
    "\n",
    "def to_networkx(\n",
    "    data: GraphData,\n",
    "    remove_self_loops: bool = False,\n",
    "    to_undirected: Optional[Union[bool, str]] = False,\n",
    "    to_multi: bool = False,\n",
    ") -> Any:\n",
    "    r\"\"\"Converts a :class:`mlx_graphs.data.GraphData` instance to a\n",
    "    :obj:`networkx.Graph` if :attr:`to_undirected` is set to :obj:`True`, or\n",
    "    a directed :obj:`networkx.DiGraph` otherwise.\n",
    "\n",
    "    Args:\n",
    "        data (mlx_graphs.data.GraphData or torch_geometric.data.HeteroData): A graph data object.\n",
    "        remove_self_loops (bool, optional): If set to :obj:`True`, will not\n",
    "            include self-loops in the resulting graph. (default: :obj:`False`)\n",
    "\n",
    "    Examples:\n",
    "        >>> edge_index = mx.array([\n",
    "        ...     [0, 1, 1, 2, 2, 3],\n",
    "        ...     [1, 0, 2, 1, 3, 2],\n",
    "        ... ])\n",
    "        >>> data = GraphData(edge_index=edge_index, num_nodes=4)\n",
    "        >>> to_networkx(data)\n",
    "        <networkx.classes.digraph.DiGraph at 0x2713fdb40d0>\n",
    "\n",
    "    \"\"\"\n",
    "    import networkx as nx\n",
    "\n",
    "\n",
    "    if to_undirected:\n",
    "        G = nx.MultiGraph() if to_multi else nx.Graph()\n",
    "    else:\n",
    "        G = nx.MultiDiGraph() if to_multi else nx.DiGraph()\n",
    "\n",
    "    def to_networkx_value(value: Any) -> Any:\n",
    "        return value.tolist() if isinstance(value, mx.array) else value\n",
    "\n",
    "    for i, _ in enumerate(data.node_features):\n",
    "\n",
    "        G.add_node(i)\n",
    "\n",
    "    for v,w in data.edge_index.T.tolist():\n",
    "        if remove_self_loops and v == w :\n",
    "            continue\n",
    "\n",
    "        G.add_edge(v, w)\n",
    "\n",
    "    return G"
   ]
  },
  {
   "cell_type": "code",
   "execution_count": 2,
   "metadata": {},
   "outputs": [
    {
     "data": {
      "text/plain": [
       "10"
      ]
     },
     "execution_count": 2,
     "metadata": {},
     "output_type": "execute_result"
    }
   ],
   "source": [
    "edge_index = mx.array([\n",
    "    [0, 0, 0, 1, 1, 2, 2, 3, 3, 1, 2, 3, 4, 5, 6, 7, 8, 9],  \n",
    "    [1, 2, 3, 4, 5, 6, 7, 8, 9, 0, 0, 0, 1, 1, 2, 2, 3, 3]   \n",
    "])\n",
    "edge_index_numpy = np.array([\n",
    "    [0, 0, 0, 1, 1, 2, 2, 3, 3, 1, 2, 3, 4, 5, 6, 7, 8, 9],  \n",
    "    [1, 2, 3, 4, 5, 6, 7, 8, 9, 0, 0, 0, 1, 1, 2, 2, 3, 3]   \n",
    "])\n",
    "                    \n",
    "node_features = mx.array([[1],[1],[1],[1],[1],[1],[1],[1],[1],[1]])\n",
    "data = GraphData(node_features=node_features, edge_index=edge_index)\n",
    "\n",
    "G = to_networkx(data=data)\n",
    "G.number_of_nodes()"
   ]
  },
  {
   "cell_type": "code",
   "execution_count": 3,
   "metadata": {},
   "outputs": [
    {
     "data": {
      "image/png": "[encoded data removed]",
      "text/plain": [
       "<Figure size 640x480 with 1 Axes>"
      ]
     },
     "metadata": {},
     "output_type": "display_data"
    }
   ],
   "source": [
    "# Draw the graph\n",
    "nx.draw(G, with_labels=True)  # Set to False because we'll add custom labels next\n",
    "\n",
    "plt.show()"
   ]
  },
  {
   "cell_type": "code",
   "execution_count": 4,
   "metadata": {},
   "outputs": [
    {
     "data": {
      "text/plain": [
       "([[0, 1], [0, 2], [0, 3], [1, 0], [1, 4], [3, 0], [3, 8]],\n",
       " [0, 1, 2, 3, 4, 8],\n",
       " [0, 2, 1, 0, 3, 9, 11, 7],\n",
       " [0])"
      ]
     },
     "execution_count": 4,
     "metadata": {},
     "output_type": "execute_result"
    }
   ],
   "source": [
    "sample_nodes(edge_index=edge_index_numpy, num_neighbors=[2,2], batch_size=1, input_nodes=[0])"
   ]
  },
  {
   "cell_type": "markdown",
   "metadata": {},
   "source": [
    "NeighborLoader"
   ]
  },
  {
   "cell_type": "code",
   "execution_count": 5,
   "metadata": {},
   "outputs": [],
   "source": [
    "loader = NeighborLoader(graph_data=data, batch_size=1, num_neighbors=[2,2])"
   ]
  },
  {
   "cell_type": "code",
   "execution_count": 6,
   "metadata": {},
   "outputs": [],
   "source": [
    "g = next(iter(loader))"
   ]
  },
  {
   "cell_type": "code",
   "execution_count": 8,
   "metadata": {},
   "outputs": [
    {
     "data": {
      "text/plain": [
       "mlx.core.array"
      ]
     },
     "execution_count": 8,
     "metadata": {},
     "output_type": "execute_result"
    }
   ],
   "source": [
    "type(g.n_id)"
   ]
  }
 ],
 "metadata": {
  "kernelspec": {
   "display_name": "mlx_graphs_env",
   "language": "python",
   "name": "python3"
  },
  "language_info": {
   "codemirror_mode": {
    "name": "ipython",
    "version": 3
   },
   "file_extension": ".py",
   "mimetype": "text/x-python",
   "name": "python",
   "nbconvert_exporter": "python",
   "pygments_lexer": "ipython3",
   "version": "3.10.13"
  }
 },
 "nbformat": 4,
 "nbformat_minor": 2
}
